{
 "cells": [
  {
   "cell_type": "code",
   "execution_count": 14,
   "metadata": {},
   "outputs": [
    {
     "name": "stdout",
     "output_type": "stream",
     "text": [
      "['在轮下.txt', '德米安.txt', '悉达多.txt', '温泉疗养客.txt', '玻璃球游戏.txt', '精神与爱欲.txt', '纳尔齐斯和戈尔德蒙.txt', '给所有人的黑塞童话.txt', '赫尔曼·黑塞作品集(套装共14册).txt', '黑塞文集.txt']\n"
     ]
    }
   ],
   "source": [
    "import os\n",
    "import re\n",
    "#input dir\n",
    "train_data=[\"诡异中文\",\"赫尔曼黑塞\",\"其他中文\",\"古文小说\"]\n",
    "choose=train_data[1]\n",
    "indir=r\"D:\\倒生树\\书\\\\1训练集\\\\\"+choose\n",
    "\n",
    "file_n=os.listdir(indir)\n",
    "print(file_n)\n",
    "outdir=r\"D:\\倒生树\\书\\\\1训练集\\processed\\\\\"\n",
    "if not os.path.exists(outdir + choose):\n",
    "            os.mkdir(outdir + choose)\n",
    "# f2=open(outdir,\"w\",encoding=\"utf-8\")\n",
    "# f2.write(\"[\")\n",
    "# setuptools                          58.0.4"
   ]
  },
  {
   "cell_type": "code",
   "execution_count": null,
   "metadata": {},
   "outputs": [],
   "source": [
    "\n"
   ]
  },
  {
   "cell_type": "code",
   "execution_count": null,
   "metadata": {},
   "outputs": [],
   "source": [
    "\n",
    "#遍历文件\n",
    "for fi in file_n:\n",
    "    filepath=indir+\"\\\\\"+fi\n",
    "    print(fi)\n",
    "    #f=open(\"D:\\倒生树\\书\\A赫尔曼黑塞训练集\\给所有人的黑塞童话.txt\", \"r\",encoding=\"utf-8\")\n",
    "    with open(filepath, \"r\", encoding=\"utf-8-sig\") as f1:\n",
    "        rlines=f1.readlines()\n",
    "        for line in rlines:\n",
    "            mline=re.match(\"^[^“”！？。，……\\s]{1,8}\\n$\",line)\n",
    "            if mline!=None:\n",
    "                print(line)\n",
    "                line=\"\"\n",
    "\n",
    "        # print(f'正在导入  {i}')\n",
    "        # content=f1.read()\n",
    "        content=\"\".join(rlines)\n",
    "        content.strip()\n",
    "        # 去除非法字符\n",
    "        content=content.replace(\"本书由“ePUBw.COM”整理ePUBw.COM 提供最新最全的优质电子书下载\",\"\")\n",
    "        content = content.replace(\"\\u200b\", \"\")\n",
    "        content = content.replace(\"\\u3000\", \"\")\n",
    "        # content = content.replace(\"☆、\", \"\")  \n",
    "        content = content.replace(\"\\\\\",\"\")\n",
    "        #分割\n",
    "        tail=len(content)\n",
    "        clist=[]\n",
    "        if tail>50000:\n",
    "            i=0\n",
    "            for i in range(0,tail,40000):\n",
    "                clist.append(content[i:i+40000])\n",
    "            clist.append(content[int(i):int(tail)])\n",
    "        else:\n",
    "            clist=[content]\n",
    "            # clist=re.split(\"第.+卷.*\\n|第.+部.*\\n\",content)\n",
    "        #去空\n",
    "        clist=list(filter(None,clist)) \n",
    "\n",
    "        #clist=re.split(\"目录\\n|译本序\\n\",content)       \n",
    "        #删除注释和xx章\n",
    "        chapter=\"第.*章.*\\n\"\n",
    "        annote=\"\\[\\d*\\].*\\n\"\n",
    "        enter=\"(\\n)+\"\n",
    "        \n",
    "        repl=''\n",
    "        rl=[]\n",
    "        while True:\n",
    "            rx=input(\"any other regex? :\")\n",
    "            if rx==\"n\":\n",
    "                break\n",
    "            else:\n",
    "                rl.append(rx)\n",
    "            # sub=input(\"what is the repl for it? :\")\n",
    "            # rdic[rx]=sub\n",
    "        print(len(rl))    \n",
    "        for c in clist:\n",
    "            c=re.sub(enter, \"\\n\", c)\n",
    "            c=re.sub(chapter, repl, c)\n",
    "            c=re.sub(annote,repl,c)\n",
    "            for r in rl:\n",
    "                c=re.sub(r,repl,c)\n",
    "\n",
    "    print(\"ok\")\n",
    "for con in clist:\n",
    "    f2.write(con)\n",
    "print(\"finish \"+fi)\n",
    "f2.close()"
   ]
  },
  {
   "cell_type": "code",
   "execution_count": 18,
   "metadata": {},
   "outputs": [
    {
     "name": "stdout",
     "output_type": "stream",
     "text": [
      "1\n"
     ]
    }
   ],
   "source": []
  }
 ],
 "metadata": {
  "kernelspec": {
   "display_name": "Python 3.8.3 ('pytorch')",
   "language": "python",
   "name": "python3"
  },
  "language_info": {
   "codemirror_mode": {
    "name": "ipython",
    "version": 3
   },
   "file_extension": ".py",
   "mimetype": "text/x-python",
   "name": "python",
   "nbconvert_exporter": "python",
   "pygments_lexer": "ipython3",
   "version": "3.8.13"
  },
  "orig_nbformat": 4,
  "vscode": {
   "interpreter": {
    "hash": "a33602734960edb9a5eb3f41aeb58ca5d38f67f324d8923cc6d284c18999f400"
   }
  }
 },
 "nbformat": 4,
 "nbformat_minor": 2
}
