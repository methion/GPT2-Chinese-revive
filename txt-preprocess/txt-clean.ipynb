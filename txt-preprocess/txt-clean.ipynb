{
 "cells": [
  {
   "cell_type": "code",
   "execution_count": 1,
   "metadata": {},
   "outputs": [
    {
     "name": "stdout",
     "output_type": "stream",
     "text": [
      "['1作者.txt', 'C-长佩2021年榜单100本', 'F-废文2021年榜单120本', 'M-木苏里', 'processed', '其他中文', '古文小说', '合并语料', '测试集', '翁贝托', '诡异中文', '诡异中文1', '赫尔曼黑塞']\n"
     ]
    }
   ],
   "source": [
    "import os\n",
    "import re\n",
    "#input dir\n",
    "\n",
    "indir=r\"D:\\倒生树\\书\\\\1训练集\\\\\"\n",
    "\n",
    "file_n=os.listdir(indir)\n",
    "print(file_n)\n",
    "# outdir=r\"D:\\倒生树\\书\\\\1训练集\\processed\\\\\"\n",
    "# procdir=outdir+choose+\"\\\\\"\n",
    "# if not os.path.exists(outdir + choose):\n",
    "#             os.mkdir(outdir + choose)\n",
    "# f2=open(outdir,\"w\",encoding=\"utf-8\")\n",
    "# f2.write(\"[\")\n"
   ]
  },
  {
   "cell_type": "code",
   "execution_count": null,
   "metadata": {},
   "outputs": [],
   "source": []
  },
  {
   "cell_type": "code",
   "execution_count": null,
   "metadata": {},
   "outputs": [],
   "source": [
    "\n",
    "#遍历文件\n",
    "for fi in file_n:\n",
    "    filepath=indir+\"\\\\\"+fi\n",
    "    print(fi)\n",
    "    with open(filepath, \"r\", encoding=\"utf-8-sig\") as f1:\n",
    "        rlines=f1.readlines()\n",
    "        for n in range(len(rlines)):\n",
    "            line=rlines[n]\n",
    "            mline=re.match(\"^[^“”！？。，……\\s]{1,8}\\n$\",line)\n",
    "            if mline!=None:\n",
    "                print(line)\n",
    "                rlines[n]=\"\"\n",
    "\n",
    "        rlines=list(filter(None,rlines)) \n",
    "        content=\"\".join(rlines)\n",
    "        content.strip()\n",
    "        # 去除非法字符\n",
    "        content=content.replace(\"本书由“ePUBw.COM”整理ePUBw.COM 提供最新最全的优质电子书下载\",\"\")\n",
    "        content = content.replace(\"\\u200b\", \"\")\n",
    "        content = content.replace(\"\\u3000\", \"\")\n",
    "        # content = content.replace(\"☆、\", \"\")  \n",
    "        content = content.replace(\"\\\\\",\"\")\n",
    "        #分割\n",
    "        tail=len(content)\n",
    "        clist=[]\n",
    "        if tail>50000:\n",
    "            i=0\n",
    "            for i in range(0,tail,40000):\n",
    "                clist.append(content[i:i+40000])\n",
    "                #不用担心边界溢出，如果到底了会自动添加最后一截不足4w的部分\n",
    "                # 同时退出循环\n",
    "            \n",
    "        else:\n",
    "            clist=[content]\n",
    "            # clist=re.split(\"第.+卷.*\\n|第.+部.*\\n\",content)\n",
    "        #去空\n",
    "        clist=list(filter(None,clist)) \n",
    "\n",
    "        #clist=re.split(\"目录\\n|译本序\\n\",content)       \n",
    "        #删除注释和xx章\n",
    "        chapter=\"第.*章.*\\n\"\n",
    "        annote=\"\\[\\d*\\].*\\n\"\n",
    "        enter=\"\\n+\"\n",
    "        \n",
    "        repl=''  \n",
    "        for c in range(len(clist)):\n",
    "            clist[c]=re.sub(enter, \"\\n\", clist[c])\n",
    "            clist[c]=re.sub(chapter, repl, clist[c])\n",
    "            clist[c]=re.sub(annote,repl,clist[c])\n",
    "\n",
    "\n",
    "    print(\"ok\")\n",
    "    with open(procdir+fi,\"w\",encoding=\"utf-8\") as f2:\n",
    "        for con in clist:\n",
    "            f2.write(con)\n",
    "        print(\"finish \"+fi)\n",
    "        \n"
   ]
  },
  {
   "cell_type": "code",
   "execution_count": null,
   "metadata": {},
   "outputs": [],
   "source": [
    "from watermarker.marker import add_mark\n",
    "\n",
    "indir=r\"C:\\Users\\dell\\Downloads\\\\ai\"\n",
    "\n",
    "file_n=os.listdir(indir)\n",
    "print(file_n)\n",
    "outdir=r\"C:\\Users\\dell\\Downloads\\\\aiout\"\n",
    "text=\"as is sb\"\n",
    "for f in file_n:\n",
    "    add_mark(file = indir+\"\\\\\"+f, out = outdir+\"\\\\\"+f,\n",
    "         mark = text, opacity=0.2, angle=30, space=30)"
   ]
  }
 ],
 "metadata": {
  "kernelspec": {
   "display_name": "Python 3.8.3 ('pytorch')",
   "language": "python",
   "name": "python3"
  },
  "language_info": {
   "codemirror_mode": {
    "name": "ipython",
    "version": 3
   },
   "file_extension": ".py",
   "mimetype": "text/x-python",
   "name": "python",
   "nbconvert_exporter": "python",
   "pygments_lexer": "ipython3",
   "version": "3.8.13 (default, Oct 19 2022, 22:38:03) [MSC v.1916 64 bit (AMD64)]"
  },
  "orig_nbformat": 4,
  "vscode": {
   "interpreter": {
    "hash": "a33602734960edb9a5eb3f41aeb58ca5d38f67f324d8923cc6d284c18999f400"
   }
  }
 },
 "nbformat": 4,
 "nbformat_minor": 2
}
